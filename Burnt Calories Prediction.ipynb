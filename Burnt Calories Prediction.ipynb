{
 "cells": [
  {
<<<<<<< Updated upstream
   "cell_type": "code",
   "execution_count": null,
   "metadata": {},
   "outputs": [],
   "source": []
=======
   "cell_type": "markdown",
   "metadata": {},
   "source": [
    "# Loading Libraries"
   ]
  },
  {
   "cell_type": "code",
   "execution_count": 1,
   "metadata": {},
   "outputs": [],
   "source": [
    "import os\n",
    "import pandas as pd\n",
    "import matplotlib.pyplot as plt\n",
    "import seaborn as sns\n",
    "from sklearn.model_selection import train_test_split\n",
    "from sklearn.linear_model import LinearRegression\n",
    "from sklearn.ensemble import RandomForestRegressor\n",
    "from sklearn.ensemble import GradientBoostingRegressor\n",
    "from sklearn.svm import SVR\n",
    "from sklearn.metrics import mean_squared_error, r2_score\n",
    "import numpy as np"
   ]
  },
  {
   "cell_type": "markdown",
   "metadata": {},
   "source": [
    "# Loading First Dataset"
   ]
  },
  {
   "cell_type": "code",
   "execution_count": 2,
   "metadata": {},
   "outputs": [
    {
     "data": {
      "text/html": [
       "<div>\n",
       "<style scoped>\n",
       "    .dataframe tbody tr th:only-of-type {\n",
       "        vertical-align: middle;\n",
       "    }\n",
       "\n",
       "    .dataframe tbody tr th {\n",
       "        vertical-align: top;\n",
       "    }\n",
       "\n",
       "    .dataframe thead th {\n",
       "        text-align: right;\n",
       "    }\n",
       "</style>\n",
       "<table border=\"1\" class=\"dataframe\">\n",
       "  <thead>\n",
       "    <tr style=\"text-align: right;\">\n",
       "      <th></th>\n",
       "      <th>User_ID</th>\n",
       "      <th>Calories</th>\n",
       "    </tr>\n",
       "  </thead>\n",
       "  <tbody>\n",
       "    <tr>\n",
       "      <th>0</th>\n",
       "      <td>14733363</td>\n",
       "      <td>231.0</td>\n",
       "    </tr>\n",
       "    <tr>\n",
       "      <th>1</th>\n",
       "      <td>14861698</td>\n",
       "      <td>66.0</td>\n",
       "    </tr>\n",
       "    <tr>\n",
       "      <th>2</th>\n",
       "      <td>11179863</td>\n",
       "      <td>26.0</td>\n",
       "    </tr>\n",
       "    <tr>\n",
       "      <th>3</th>\n",
       "      <td>16180408</td>\n",
       "      <td>71.0</td>\n",
       "    </tr>\n",
       "    <tr>\n",
       "      <th>4</th>\n",
       "      <td>17771927</td>\n",
       "      <td>35.0</td>\n",
       "    </tr>\n",
       "  </tbody>\n",
       "</table>\n",
       "</div>"
      ],
      "text/plain": [
       "    User_ID  Calories\n",
       "0  14733363     231.0\n",
       "1  14861698      66.0\n",
       "2  11179863      26.0\n",
       "3  16180408      71.0\n",
       "4  17771927      35.0"
      ]
     },
     "execution_count": 2,
     "metadata": {},
     "output_type": "execute_result"
    }
   ],
   "source": [
    "os.chdir('C:\\\\Users\\\\willy\\\\Downloads\\\\FinalProject')\n",
    "#Loading the dataset\n",
    "data = pd.read_csv('calories.csv')\n",
    "data.head()"
   ]
  },
  {
   "cell_type": "markdown",
   "metadata": {},
   "source": [
    "# Loading Second Dataset"
   ]
  },
  {
   "cell_type": "code",
   "execution_count": 3,
   "metadata": {},
   "outputs": [
    {
     "data": {
      "text/html": [
       "<div>\n",
       "<style scoped>\n",
       "    .dataframe tbody tr th:only-of-type {\n",
       "        vertical-align: middle;\n",
       "    }\n",
       "\n",
       "    .dataframe tbody tr th {\n",
       "        vertical-align: top;\n",
       "    }\n",
       "\n",
       "    .dataframe thead th {\n",
       "        text-align: right;\n",
       "    }\n",
       "</style>\n",
       "<table border=\"1\" class=\"dataframe\">\n",
       "  <thead>\n",
       "    <tr style=\"text-align: right;\">\n",
       "      <th></th>\n",
       "      <th>User_ID</th>\n",
       "      <th>Gender</th>\n",
       "      <th>Age</th>\n",
       "      <th>Height</th>\n",
       "      <th>Weight</th>\n",
       "      <th>Duration</th>\n",
       "      <th>Heart_Rate</th>\n",
       "      <th>Body_Temp</th>\n",
       "    </tr>\n",
       "  </thead>\n",
       "  <tbody>\n",
       "    <tr>\n",
       "      <th>0</th>\n",
       "      <td>14733363</td>\n",
       "      <td>male</td>\n",
       "      <td>68</td>\n",
       "      <td>190.0</td>\n",
       "      <td>94.0</td>\n",
       "      <td>29.0</td>\n",
       "      <td>105.0</td>\n",
       "      <td>40.8</td>\n",
       "    </tr>\n",
       "    <tr>\n",
       "      <th>1</th>\n",
       "      <td>14861698</td>\n",
       "      <td>female</td>\n",
       "      <td>20</td>\n",
       "      <td>166.0</td>\n",
       "      <td>60.0</td>\n",
       "      <td>14.0</td>\n",
       "      <td>94.0</td>\n",
       "      <td>40.3</td>\n",
       "    </tr>\n",
       "    <tr>\n",
       "      <th>2</th>\n",
       "      <td>11179863</td>\n",
       "      <td>male</td>\n",
       "      <td>69</td>\n",
       "      <td>179.0</td>\n",
       "      <td>79.0</td>\n",
       "      <td>5.0</td>\n",
       "      <td>88.0</td>\n",
       "      <td>38.7</td>\n",
       "    </tr>\n",
       "    <tr>\n",
       "      <th>3</th>\n",
       "      <td>16180408</td>\n",
       "      <td>female</td>\n",
       "      <td>34</td>\n",
       "      <td>179.0</td>\n",
       "      <td>71.0</td>\n",
       "      <td>13.0</td>\n",
       "      <td>100.0</td>\n",
       "      <td>40.5</td>\n",
       "    </tr>\n",
       "    <tr>\n",
       "      <th>4</th>\n",
       "      <td>17771927</td>\n",
       "      <td>female</td>\n",
       "      <td>27</td>\n",
       "      <td>154.0</td>\n",
       "      <td>58.0</td>\n",
       "      <td>10.0</td>\n",
       "      <td>81.0</td>\n",
       "      <td>39.8</td>\n",
       "    </tr>\n",
       "  </tbody>\n",
       "</table>\n",
       "</div>"
      ],
      "text/plain": [
       "    User_ID  Gender  Age  Height  Weight  Duration  Heart_Rate  Body_Temp\n",
       "0  14733363    male   68   190.0    94.0      29.0       105.0       40.8\n",
       "1  14861698  female   20   166.0    60.0      14.0        94.0       40.3\n",
       "2  11179863    male   69   179.0    79.0       5.0        88.0       38.7\n",
       "3  16180408  female   34   179.0    71.0      13.0       100.0       40.5\n",
       "4  17771927  female   27   154.0    58.0      10.0        81.0       39.8"
      ]
     },
     "execution_count": 3,
     "metadata": {},
     "output_type": "execute_result"
    }
   ],
   "source": [
    "#Loading the second dataset\n",
    "exercise_data = pd.read_csv('exercise.csv')\n",
    "exercise_data.head()"
   ]
  },
  {
   "cell_type": "markdown",
   "metadata": {},
   "source": [
    "# Merging the Datasets"
   ]
  },
  {
   "cell_type": "code",
   "execution_count": 4,
   "metadata": {},
   "outputs": [
    {
     "data": {
      "text/html": [
       "<div>\n",
       "<style scoped>\n",
       "    .dataframe tbody tr th:only-of-type {\n",
       "        vertical-align: middle;\n",
       "    }\n",
       "\n",
       "    .dataframe tbody tr th {\n",
       "        vertical-align: top;\n",
       "    }\n",
       "\n",
       "    .dataframe thead th {\n",
       "        text-align: right;\n",
       "    }\n",
       "</style>\n",
       "<table border=\"1\" class=\"dataframe\">\n",
       "  <thead>\n",
       "    <tr style=\"text-align: right;\">\n",
       "      <th></th>\n",
       "      <th>User_ID</th>\n",
       "      <th>Calories</th>\n",
       "      <th>Gender</th>\n",
       "      <th>Age</th>\n",
       "      <th>Height</th>\n",
       "      <th>Weight</th>\n",
       "      <th>Duration</th>\n",
       "      <th>Heart_Rate</th>\n",
       "      <th>Body_Temp</th>\n",
       "    </tr>\n",
       "  </thead>\n",
       "  <tbody>\n",
       "    <tr>\n",
       "      <th>0</th>\n",
       "      <td>14733363</td>\n",
       "      <td>231.0</td>\n",
       "      <td>male</td>\n",
       "      <td>68</td>\n",
       "      <td>190.0</td>\n",
       "      <td>94.0</td>\n",
       "      <td>29.0</td>\n",
       "      <td>105.0</td>\n",
       "      <td>40.8</td>\n",
       "    </tr>\n",
       "    <tr>\n",
       "      <th>1</th>\n",
       "      <td>14861698</td>\n",
       "      <td>66.0</td>\n",
       "      <td>female</td>\n",
       "      <td>20</td>\n",
       "      <td>166.0</td>\n",
       "      <td>60.0</td>\n",
       "      <td>14.0</td>\n",
       "      <td>94.0</td>\n",
       "      <td>40.3</td>\n",
       "    </tr>\n",
       "    <tr>\n",
       "      <th>2</th>\n",
       "      <td>11179863</td>\n",
       "      <td>26.0</td>\n",
       "      <td>male</td>\n",
       "      <td>69</td>\n",
       "      <td>179.0</td>\n",
       "      <td>79.0</td>\n",
       "      <td>5.0</td>\n",
       "      <td>88.0</td>\n",
       "      <td>38.7</td>\n",
       "    </tr>\n",
       "    <tr>\n",
       "      <th>3</th>\n",
       "      <td>16180408</td>\n",
       "      <td>71.0</td>\n",
       "      <td>female</td>\n",
       "      <td>34</td>\n",
       "      <td>179.0</td>\n",
       "      <td>71.0</td>\n",
       "      <td>13.0</td>\n",
       "      <td>100.0</td>\n",
       "      <td>40.5</td>\n",
       "    </tr>\n",
       "    <tr>\n",
       "      <th>4</th>\n",
       "      <td>17771927</td>\n",
       "      <td>35.0</td>\n",
       "      <td>female</td>\n",
       "      <td>27</td>\n",
       "      <td>154.0</td>\n",
       "      <td>58.0</td>\n",
       "      <td>10.0</td>\n",
       "      <td>81.0</td>\n",
       "      <td>39.8</td>\n",
       "    </tr>\n",
       "  </tbody>\n",
       "</table>\n",
       "</div>"
      ],
      "text/plain": [
       "    User_ID  Calories  Gender  Age  Height  Weight  Duration  Heart_Rate  \\\n",
       "0  14733363     231.0    male   68   190.0    94.0      29.0       105.0   \n",
       "1  14861698      66.0  female   20   166.0    60.0      14.0        94.0   \n",
       "2  11179863      26.0    male   69   179.0    79.0       5.0        88.0   \n",
       "3  16180408      71.0  female   34   179.0    71.0      13.0       100.0   \n",
       "4  17771927      35.0  female   27   154.0    58.0      10.0        81.0   \n",
       "\n",
       "   Body_Temp  \n",
       "0       40.8  \n",
       "1       40.3  \n",
       "2       38.7  \n",
       "3       40.5  \n",
       "4       39.8  "
      ]
     },
     "execution_count": 4,
     "metadata": {},
     "output_type": "execute_result"
    }
   ],
   "source": [
    "#Merging the two datasets on the 'User_ID' column\n",
    "merged_data = pd.merge(data, exercise_data, on='User_ID')\n",
    "merged_data.head()"
   ]
  },
  {
   "cell_type": "markdown",
   "metadata": {},
   "source": [
    "# Checking Missing Values"
   ]
  },
  {
   "cell_type": "code",
   "execution_count": 5,
   "metadata": {},
   "outputs": [
    {
     "data": {
      "text/plain": [
       "User_ID       0\n",
       "Calories      0\n",
       "Gender        0\n",
       "Age           0\n",
       "Height        0\n",
       "Weight        0\n",
       "Duration      0\n",
       "Heart_Rate    0\n",
       "Body_Temp     0\n",
       "dtype: int64"
      ]
     },
     "execution_count": 5,
     "metadata": {},
     "output_type": "execute_result"
    }
   ],
   "source": [
    "#Missing Values\n",
    "missing_values = merged_data.isnull().sum()\n",
    "missing_values"
   ]
  },
  {
   "cell_type": "markdown",
   "metadata": {},
   "source": [
    "# Histogram of the Calories Column"
   ]
  },
  {
   "cell_type": "code",
   "execution_count": 6,
   "metadata": {},
   "outputs": [
    {
     "data": {
      "image/png": "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",
      "text/plain": [
       "<Figure size 1000x600 with 1 Axes>"
      ]
     },
     "metadata": {},
     "output_type": "display_data"
    }
   ],
   "source": [
    "#Creating a histogram of the 'Calories' column\n",
    "plt.figure(figsize=(10, 6))\n",
    "sns.histplot(merged_data['Calories'], bins=30, kde=True)\n",
    "plt.title('Distribution of Calories Burned')\n",
    "plt.xlabel('Calories')\n",
    "plt.ylabel('Frequency')\n",
    "plt.show()"
   ]
>>>>>>> Stashed changes
  }
 ],
 "metadata": {
  "kernelspec": {
   "display_name": "Python 3",
   "language": "python",
   "name": "python3"
  },
  "language_info": {
<<<<<<< Updated upstream
   "name": "python",
=======
   "codemirror_mode": {
    "name": "ipython",
    "version": 3
   },
   "file_extension": ".py",
   "mimetype": "text/x-python",
   "name": "python",
   "nbconvert_exporter": "python",
   "pygments_lexer": "ipython3",
>>>>>>> Stashed changes
   "version": "3.10.11"
  }
 },
 "nbformat": 4,
 "nbformat_minor": 2
}
