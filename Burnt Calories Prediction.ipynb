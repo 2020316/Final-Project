{
 "cells": [
  {
   "cell_type": "markdown",
   "metadata": {},
   "source": [
    "# Loading Libraries"
   ]
  },
  {
   "cell_type": "markdown",
   "metadata": {},
   "source": [
    "This section is importing necessary libraries, including pandas for data manipulation, matplotlib and seaborn for data visualization, sklearn for machine learning tasks, and numpy for numerical operations."
   ]
  },
  {
   "cell_type": "code",
   "execution_count": null,
   "metadata": {},
   "outputs": [],
   "source": [
    "import os\n",
    "import pandas as pd\n",
    "import matplotlib.pyplot as plt\n",
    "import seaborn as sns\n",
    "from sklearn.model_selection import train_test_split\n",
    "from sklearn.linear_model import LinearRegression\n",
    "from sklearn.ensemble import RandomForestRegressor\n",
    "from sklearn.ensemble import GradientBoostingRegressor\n",
    "from sklearn.svm import SVR\n",
    "from sklearn.metrics import mean_squared_error, r2_score\n",
    "import numpy as np"
   ]
  },
  {
   "cell_type": "markdown",
   "metadata": {},
   "source": [
    "# Loading First Dataset"
   ]
  },
  {
   "cell_type": "code",
   "execution_count": null,
   "metadata": {},
   "outputs": [],
   "source": [
    "os.chdir(r'C:\\Users\\guilh\\OneDrive\\Área de Trabalho\\FinalProject\\FinalProject') \n",
    "#Loading the dataset from a CSV file named 'calories.csv' into a pandas DataFrame\n",
    "data = pd.read_csv('calories.csv')\n",
    "data.head() # Display the first few rows of the loaded dataset"
   ]
  },
  {
   "cell_type": "markdown",
   "metadata": {},
   "source": [
    "# Loading Second Dataset"
   ]
  },
  {
   "cell_type": "code",
   "execution_count": null,
   "metadata": {},
   "outputs": [],
   "source": [
    "#Loading the second dataset from a CSV file named 'exercise.csv' into a pandas DataFrame\n",
    "exercise_data = pd.read_csv('exercise.csv')\n",
    "exercise_data.head()"
   ]
  },
  {
   "cell_type": "markdown",
   "metadata": {},
   "source": [
    "# Merging the Datasets"
   ]
  },
  {
   "cell_type": "code",
   "execution_count": null,
   "metadata": {},
   "outputs": [],
   "source": [
    "#Merging the two datasets ('data' and 'exercise_data') on the 'User_ID' column\n",
    "merged_data = pd.merge(data, exercise_data, on='User_ID')\n",
    "merged_data.head()"
   ]
  },
  {
   "cell_type": "markdown",
   "metadata": {},
   "source": [
    "***"
   ]
  },
  {
   "cell_type": "markdown",
   "metadata": {},
   "source": [
    "# Checking Missing Values"
   ]
  },
  {
   "cell_type": "markdown",
   "metadata": {},
   "source": [
    "Check for missing values in the merged dataset. The isnull() function returns a boolean mask of the same shape as the original DataFrame, where True indicates a missing value and False indicates a present value.   \n",
    "The sum() function then counts the number of True values in each column, effectively counting the number of missing values.\n",
    "missing_values = merged_data.isnull().sum()   "
   ]
  },
  {
   "cell_type": "code",
   "execution_count": null,
   "metadata": {},
   "outputs": [],
   "source": [
    "# Check for missing values in the merged dataset\n",
    "missing_values = merged_data.isnull().sum()\n",
    "missing_values"
   ]
  },
  {
   "cell_type": "markdown",
   "metadata": {},
   "source": [
    "***"
   ]
  },
  {
   "cell_type": "markdown",
   "metadata": {},
   "source": [
    "# Histogram of the Calories Column"
   ]
  },
  {
   "cell_type": "markdown",
   "metadata": {},
   "source": [
    "The histogram will display the distribution of calories burned   \n",
    "plt.figure(figsize=(10, 6)) # Set the figure size to 10 inches wide and 6 inches tall   \n",
    "   \n",
    "bins=30 specifies that the histogram should be divided into 30 bins\n",
    "kde=True adds a kernel density estimate (KDE) to the histogram, which is a smoothed curve that estimates the underlying distribution of the data\n",
    "sns.histplot(merged_data['Calories'], bins=30, kde=True)"
   ]
  },
  {
   "cell_type": "code",
   "execution_count": null,
   "metadata": {},
   "outputs": [],
   "source": [
    "#Creating a histogram of the 'Calories' column\n",
    "plt.figure(figsize=(10, 6)) # Set the figure size to 10 inches wide and 6 inches tall\n",
    "sns.histplot(merged_data['Calories'], bins=30, kde=True)# bins=30 specifies that the histogram should be divided into 30 bins\n",
    "plt.title('Distribution of Calories Burned')\n",
    "plt.xlabel('Calories')\n",
    "plt.ylabel('Frequency')\n",
    "plt.show()"
   ]
  },
  {
   "cell_type": "markdown",
   "metadata": {},
   "source": [
    "***"
   ]
  },
  {
   "cell_type": "markdown",
   "metadata": {},
   "source": [
    "# Scatter Plot to Explore the Relationship between Duration and Calories Burned"
   ]
  },
  {
   "cell_type": "markdown",
   "metadata": {},
   "source": [
    "This code creates a scatter plot of the 'Duration' and 'Calories' columns in the merged_data DataFrame using the sns.scatterplot function from the seaborn library.   \n",
    "The scatter plot displays the relationship between the duration of exercise and the number of calories burned, with the x-axis representing the duration of exercise in minutes and the y-axis representing the number of calories burned.   \n",
    "The hue parameter is used to color the points based on the 'Gender' column, and the style parameter is used to change the marker style based on the 'Gender' column. The alpha parameter is used to set the transparency of the points."
   ]
  },
  {
   "cell_type": "code",
   "execution_count": null,
   "metadata": {},
   "outputs": [],
   "source": [
    "#Creating a scatter plot to explore the relationship between Duration and Calories burned\n",
    "plt.figure(figsize=(10, 6))# Set the figure size to 10 inches wide and 6 inches tall\n",
    "sns.scatterplot(x='Duration', y='Calories', data=merged_data, hue='Gender', style='Gender', alpha=0.6)\n",
    "plt.title('Relationship Between Exercise Duration and Calories Burned by Gender')\n",
    "plt.xlabel('Duration (minutes)')\n",
    "plt.ylabel('Calories Burned')\n",
    "plt.legend(title='Gender')\n",
    "plt.grid(True)\n",
    "plt.show()"
   ]
  },
  {
   "cell_type": "markdown",
   "metadata": {},
   "source": [
    "***"
   ]
  },
  {
   "cell_type": "markdown",
   "metadata": {},
   "source": [
    "# Boxplot for Comparing the Heart Rate Across Different Genders During Exercise"
   ]
  },
  {
   "cell_type": "markdown",
   "metadata": {},
   "source": [
    "This code creates a boxplot of the 'Heart_Rate' column in the merged_data DataFrame using the sns.boxplot function from the seaborn library.    \n",
    "The boxplot displays the distribution of heart rate during exercise for each gender, with the x-axis representing the gender of the individual and the y-axis representing the heart rate in beats per minute (bpm)."
   ]
  },
  {
   "cell_type": "code",
   "execution_count": null,
   "metadata": {},
   "outputs": [],
   "source": [
    "#Creating a boxplot to compare the Heart Rate across different Genders during exercise\n",
    "plt.figure(figsize=(10, 6))# Set the figure size to 10 inches wide and 6 inches tall\n",
    "sns.boxplot(x='Gender', y='Heart_Rate', data=merged_data)\n",
    "plt.title('Heart Rate Distribution by Gender During Exercise')\n",
    "plt.xlabel('Gender')\n",
    "plt.ylabel('Heart Rate (bpm)')\n",
    "plt.show()"
   ]
  },
  {
   "cell_type": "markdown",
   "metadata": {},
   "source": [
    "***"
   ]
  }
 ],
 "metadata": {
  "kernelspec": {
   "display_name": "Python 3",
   "language": "python",
   "name": "python3"
  },
  "language_info": {
   "name": "python",
   "version": "3.10.11"
  }
 },
 "nbformat": 4,
 "nbformat_minor": 2
}
