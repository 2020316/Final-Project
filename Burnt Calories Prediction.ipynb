{
 "cells": [
  {
   "cell_type": "markdown",
   "metadata": {},
   "source": [
    "# Loading Libraries"
   ]
  },
  {
   "cell_type": "markdown",
   "metadata": {},
   "source": [
    "This section is importing necessary libraries, including pandas for data manipulation, matplotlib and seaborn for data visualization, sklearn for machine learning tasks, and numpy for numerical operations."
   ]
  },
  {
   "cell_type": "code",
   "execution_count": null,
   "metadata": {},
   "outputs": [],
   "source": [
    "import os\n",
    "import pandas as pd\n",
    "import matplotlib.pyplot as plt\n",
    "import seaborn as sns\n",
    "from sklearn.model_selection import train_test_split\n",
    "from sklearn.linear_model import LinearRegression\n",
    "from sklearn.ensemble import RandomForestRegressor\n",
    "from sklearn.ensemble import GradientBoostingRegressor\n",
    "from sklearn.svm import SVR\n",
    "from sklearn.metrics import mean_squared_error, r2_score\n",
    "import numpy as np"
   ]
  },
  {
   "cell_type": "markdown",
   "metadata": {},
   "source": [
    "# Loading First Dataset"
   ]
  },
  {
   "cell_type": "code",
   "execution_count": null,
   "metadata": {},
   "outputs": [],
   "source": [
    "os.chdir(r'C:\\Users\\guilh\\OneDrive\\Área de Trabalho\\FinalProject\\FinalProject') \n",
    "#Loading the dataset from a CSV file named 'calories.csv' into a pandas DataFrame\n",
    "data = pd.read_csv('calories.csv')\n",
    "data.head() # Display the first few rows of the loaded dataset"
   ]
  },
  {
   "cell_type": "markdown",
   "metadata": {},
   "source": [
    "# Loading Second Dataset"
   ]
  },
  {
   "cell_type": "code",
   "execution_count": null,
   "metadata": {},
   "outputs": [],
   "source": [
    "#Loading the second dataset from a CSV file named 'exercise.csv' into a pandas DataFrame\n",
    "exercise_data = pd.read_csv('exercise.csv')\n",
    "exercise_data.head()"
   ]
  },
  {
   "cell_type": "markdown",
   "metadata": {},
   "source": [
    "# Merging the Datasets"
   ]
  },
  {
   "cell_type": "code",
   "execution_count": null,
   "metadata": {},
   "outputs": [],
   "source": [
    "#Merging the two datasets ('data' and 'exercise_data') on the 'User_ID' column\n",
    "merged_data = pd.merge(data, exercise_data, on='User_ID')\n",
    "merged_data.head()"
   ]
  },
  {
   "cell_type": "markdown",
   "metadata": {},
   "source": [
    "***"
   ]
  },
  {
   "cell_type": "markdown",
   "metadata": {},
   "source": [
    "# Checking Missing Values"
   ]
  },
  {
   "cell_type": "markdown",
   "metadata": {},
   "source": [
    "Check for missing values in the merged dataset. The isnull() function returns a boolean mask of the same shape as the original DataFrame, where True indicates a missing value and False indicates a present value.   \n",
    "The sum() function then counts the number of True values in each column, effectively counting the number of missing values.\n",
    "missing_values = merged_data.isnull().sum()   "
   ]
  },
  {
   "cell_type": "code",
   "execution_count": null,
   "metadata": {},
   "outputs": [],
   "source": [
    "# Check for missing values in the merged dataset\n",
    "missing_values = merged_data.isnull().sum()\n",
    "missing_values"
   ]
  },
  {
   "cell_type": "markdown",
   "metadata": {},
   "source": [
    "***"
   ]
  },
  {
   "cell_type": "markdown",
   "metadata": {},
   "source": [
    "# Histogram of the Calories Column"
   ]
  },
  {
   "cell_type": "markdown",
   "metadata": {},
   "source": [
    "The histogram will display the distribution of calories burned   \n",
    "plt.figure(figsize=(10, 6)) # Set the figure size to 10 inches wide and 6 inches tall   \n",
    "   \n",
    "bins=30 specifies that the histogram should be divided into 30 bins\n",
    "kde=True adds a kernel density estimate (KDE) to the histogram, which is a smoothed curve that estimates the underlying distribution of the data\n",
    "sns.histplot(merged_data['Calories'], bins=30, kde=True)"
   ]
  },
  {
   "cell_type": "code",
   "execution_count": null,
   "metadata": {},
   "outputs": [],
   "source": [
    "#Creating a histogram of the 'Calories' column\n",
    "plt.figure(figsize=(10, 6)) # Set the figure size to 10 inches wide and 6 inches tall\n",
    "sns.histplot(merged_data['Calories'], bins=30, kde=True)# bins=30 specifies that the histogram should be divided into 30 bins\n",
    "plt.title('Distribution of Calories Burned')\n",
    "plt.xlabel('Calories')\n",
    "plt.ylabel('Frequency')\n",
    "plt.show()"
   ]
  },
  {
   "cell_type": "markdown",
   "metadata": {},
   "source": [
    "***"
   ]
  },
  {
   "cell_type": "markdown",
   "metadata": {},
   "source": [
    "# Scatter Plot to Explore the Relationship between Duration and Calories Burned"
   ]
  },
  {
   "cell_type": "markdown",
   "metadata": {},
   "source": [
    "This code creates a scatter plot of the 'Duration' and 'Calories' columns in the merged_data DataFrame using the sns.scatterplot function from the seaborn library.   \n",
    "The scatter plot displays the relationship between the duration of exercise and the number of calories burned, with the x-axis representing the duration of exercise in minutes and the y-axis representing the number of calories burned.   \n",
    "The hue parameter is used to color the points based on the 'Gender' column, and the style parameter is used to change the marker style based on the 'Gender' column. The alpha parameter is used to set the transparency of the points."
   ]
  },
  {
   "cell_type": "code",
   "execution_count": null,
   "metadata": {},
   "outputs": [],
   "source": [
    "#Creating a scatter plot to explore the relationship between Duration and Calories burned\n",
    "plt.figure(figsize=(10, 6))# Set the figure size to 10 inches wide and 6 inches tall\n",
    "sns.scatterplot(x='Duration', y='Calories', data=merged_data, hue='Gender', style='Gender', alpha=0.6)\n",
    "plt.title('Relationship Between Exercise Duration and Calories Burned by Gender')\n",
    "plt.xlabel('Duration (minutes)')\n",
    "plt.ylabel('Calories Burned')\n",
    "plt.legend(title='Gender')\n",
    "plt.grid(True)\n",
    "plt.show()"
   ]
  },
  {
   "cell_type": "markdown",
   "metadata": {},
   "source": [
    "***"
   ]
  },
  {
   "cell_type": "markdown",
   "metadata": {},
   "source": [
    "# Boxplot for Comparing the Heart Rate Across Different Genders During Exercise"
   ]
  },
  {
   "cell_type": "markdown",
   "metadata": {},
   "source": [
    "This code creates a boxplot of the 'Heart_Rate' column in the merged_data DataFrame using the sns.boxplot function from the seaborn library.    \n",
    "The boxplot displays the distribution of heart rate during exercise for each gender, with the x-axis representing the gender of the individual and the y-axis representing the heart rate in beats per minute (bpm)."
   ]
  },
  {
   "cell_type": "code",
   "execution_count": null,
   "metadata": {},
   "outputs": [],
   "source": [
    "#Creating a boxplot to compare the Heart Rate across different Genders during exercise\n",
    "plt.figure(figsize=(10, 6))# Set the figure size to 10 inches wide and 6 inches tall\n",
    "sns.boxplot(x='Gender', y='Heart_Rate', data=merged_data)\n",
    "plt.title('Heart Rate Distribution by Gender During Exercise')\n",
    "plt.xlabel('Gender')\n",
    "plt.ylabel('Heart Rate (bpm)')\n",
    "plt.show()"
   ]
  },
  {
   "cell_type": "markdown",
   "metadata": {},
   "source": [
    "***"
   ]
  },
  {
   "cell_type": "markdown",
   "metadata": {},
   "source": [
    "# Correlation Matrix/Heatmap"
   ]
  },
  {
   "cell_type": "markdown",
   "metadata": {},
   "source": [
    "This code calculates the correlation matrix for the numeric columns in the merged_data DataFrame using the corr() function. The corr() function calculates the pairwise correlation of columns, and the result is a DataFrame with the correlation coefficient for each pair of columns."
   ]
  },
  {
   "cell_type": "code",
   "execution_count": null,
   "metadata": {},
   "outputs": [],
   "source": [
    "# Select only numeric columns\n",
    "numeric_data = merged_data.select_dtypes(include=['int64', 'float64'])\n",
    "\n",
    "# Calculate the correlation matrix\n",
    "correlation_matrix = numeric_data.corr()\n",
    "\n",
    "# Create a heatmap to visualize the correlation matrix\n",
    "plt.figure(figsize=(12, 8))\n",
    "sns.heatmap(correlation_matrix, annot=True, fmt=\".2f\", cmap='coolwarm', cbar=True)\n",
    "plt.title('Correlation Matrix Heatmap')\n",
    "plt.show()"
   ]
  },
  {
   "cell_type": "markdown",
   "metadata": {},
   "source": [
    "***"
   ]
  },
  {
   "cell_type": "markdown",
   "metadata": {},
   "source": [
    "# Dropping Useless Column (User_ID) from the Dataset"
   ]
  },
  {
   "cell_type": "markdown",
   "metadata": {},
   "source": [
    "This code drops the 'User_ID' column from the merged_data DataFrame using the drop() function. The axis=1 parameter specifies that the column should be dropped (as opposed to a row, which would be axis=0).\n",
    "   \n",
    "The resulting DataFrame, merged_data_dropped, is then displayed using the head() function, which shows the first few rows of the DataFrame."
   ]
  },
  {
   "cell_type": "code",
   "execution_count": null,
   "metadata": {},
   "outputs": [],
   "source": [
    "#Dropping the 'User_ID' column from the merged dataset\n",
    "merged_data_dropped = merged_data.drop('User_ID', axis=1)#drop a column from a DataFrame\n",
    "merged_data_dropped.head()"
   ]
  },
  {
   "cell_type": "markdown",
   "metadata": {},
   "source": [
    "***"
   ]
  },
  {
   "cell_type": "markdown",
   "metadata": {},
   "source": [
    "# Linear Regression"
   ]
  },
  {
   "cell_type": "markdown",
   "metadata": {},
   "source": [
    "This code prepares the data for a linear regression model by encoding the 'Gender' column as 1 for 'male' and 0 for 'female', and splitting the data into features (X) and target (y). The data is then split into training and testing sets using the train_test_split() function.   \n",
    "A linear regression model is created using the LinearRegression() function and trained on the training data using the fit() function. Predictions are then made on the training and testing data using the predict() function.   \n",
    "The training and testing accuracy is calculated using the r2_score() function, and a plot is created to compare the predicted and actual values for the training and testing data.   \n",
    "   \n",
    "Explanation:   \n",
    "test_size: This parameter specifies the proportion of the dataset to include in the test split. The value 0.2 means that 20% of the dataset will be used for testing, while the remaining 80% will be used for training.   \n",
    "\n",
    "random_state=42. This parameter is used to control the randomness of the data split.By specifying a random state (in this case, 42), you ensure that the data split is consistent and reproducible every time you run the code."
   ]
  },
  {
   "cell_type": "code",
   "execution_count": null,
   "metadata": {},
   "outputs": [],
   "source": [
    "#Preparing the data: encoding 'Gender' and splitting into features and target\n",
    "merged_data_dropped['Gender'] = merged_data_dropped['Gender'].apply(lambda x: 1 if x == 'male' else 0)\n",
    "X = merged_data_dropped.drop('Calories', axis=1)\n",
    "y = merged_data_dropped['Calories']\n",
    "#Splitting the data into training and testing sets\n",
    "X_train, X_test, y_train, y_test = train_test_split(X, y, test_size=0.2, random_state=42) # The test_size=0.2 parameter specifies that 20% of the data should be used for testing\n",
    "#Creating a Linear Regression model and fit it to the training data\n",
    "lr_model = LinearRegression()# The LinearRegression() function is used to create a linear regression model\n",
    "lr_model.fit(X_train, y_train) # The fit() function is used to train the model on the training data\n",
    "#Predictions on training and testing data\n",
    "y_train_pred = lr_model.predict(X_train)\n",
    "y_test_pred = lr_model.predict(X_test)\n",
    "#Calculating training and testing accuracy using R^2 score\n",
    "train_accuracy = r2_score(y_train, y_train_pred) # The r2_score() function is used to calculate the R^2 score for the training and testing data\n",
    "test_accuracy = r2_score(y_test, y_test_pred)\n",
    "#Training vs Testing plot\n",
    "plt.figure(figsize=(10, 5))\n",
    "plt.scatter(y_train, y_train_pred, color='blue', label='Training data', alpha=0.5)\n",
    "plt.scatter(y_test, y_test_pred, color='red', label='Testing data', alpha=0.5)# The alpha=0.5 parameter sets the transparency of the points\n",
    "plt.title('Calories Burned: Predicted vs Actual')\n",
    "plt.xlabel('Actual Calories')\n",
    "plt.ylabel('Predicted Calories')\n",
    "plt.legend()\n",
    "plt.plot([y.min(), y.max()], [y.min(), y.max()], 'k--')\n",
    "plt.grid(True)\n",
    "plt.show()\n",
    "(train_accuracy, test_accuracy)"
   ]
  },
  {
   "cell_type": "markdown",
   "metadata": {},
   "source": [
    "The training accuracy is 0.9671621074066676, and the testing accuracy is 0.9672937151257295. This means that the model is able to predict the number of calories burned with high accuracy on both the training and testing data."
   ]
  },
  {
   "cell_type": "markdown",
   "metadata": {},
   "source": [
    "In the line X_train, X_test, y_train, y_test = train_test_split(X, y, test_size=0.2, random_state=42), the test_size parameter specifies the proportion of the data to be used for the testing set. In this case, test_size=0.2 means that 20% of the data will be used for testing, and the remaining 80% will be used for training.\n",
    "\n",
    "The random_state parameter is used to specify the seed for the random number generator, which determines the random shuffling of the data before splitting. In this case, random_state=42 means that the same random shuffling will be used each time the code is run, which ensures reproducibility of the results."
   ]
  },
  {
   "cell_type": "markdown",
   "metadata": {},
   "source": [
    "***"
   ]
  },
  {
   "cell_type": "markdown",
   "metadata": {},
   "source": [
    "# Random Forest Regressor"
   ]
  },
  {
   "cell_type": "markdown",
   "metadata": {},
   "source": [
    "The training and testing accuracy is calculated using the r2_score() function, and a plot is created to compare the predicted and actual values for the training and testing data."
   ]
  },
  {
   "cell_type": "code",
   "execution_count": null,
   "metadata": {},
   "outputs": [],
   "source": [
    "#Creating a Random Forest Regressor model and fit it to the training data\n",
    "rf_model = RandomForestRegressor(random_state=42)\n",
    "rf_model.fit(X_train, y_train)\n",
    "#Predictions on training and testing data\n",
    "y_train_pred_rf = rf_model.predict(X_train)\n",
    "y_test_pred_rf = rf_model.predict(X_test)\n",
    "#Calculating training and testing accuracy using R^2 score\n",
    "train_accuracy_rf = r2_score(y_train, y_train_pred_rf)\n",
    "test_accuracy_rf = r2_score(y_test, y_test_pred_rf)\n",
    "# Training vs Testing plot\n",
    "plt.figure(figsize=(10, 5))\n",
    "plt.scatter(y_train, y_train_pred_rf, color='blue', label='Training data', alpha=0.5)\n",
    "plt.scatter(y_test, y_test_pred_rf, color='red', label='Testing data', alpha=0.5)\n",
    "plt.title('Calories Burned: Predicted vs Actual with Random Forest')\n",
    "plt.xlabel('Actual Calories')\n",
    "plt.ylabel('Predicted Calories')\n",
    "plt.legend()\n",
    "plt.plot([y.min(), y.max()], [y.min(), y.max()], 'k--')\n",
    "plt.grid(True)\n",
    "plt.show()\n",
    "(train_accuracy_rf, test_accuracy_rf)"
   ]
  },
  {
   "cell_type": "markdown",
   "metadata": {},
   "source": [
    "The training accuracy is 0.9996877292400479, and the testing accuracy is 0.9982158297720679. This means that the model is able to predict the number of calories burned with very high accuracy on both the training and testing data.\n",
    "Note that the training accuracy is very close to 1, which indicates that the model is almost perfectly fitting the training data. "
   ]
  },
  {
   "cell_type": "markdown",
   "metadata": {},
   "source": [
    "***"
   ]
  }
 ],
 "metadata": {
  "kernelspec": {
   "display_name": "Python 3",
   "language": "python",
   "name": "python3"
  },
  "language_info": {
   "name": "python",
   "version": "3.10.11"
  }
 },
 "nbformat": 4,
 "nbformat_minor": 2
}
