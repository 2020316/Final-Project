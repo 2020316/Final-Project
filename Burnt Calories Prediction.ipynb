{
 "cells": [
  {
   "cell_type": "markdown",
   "metadata": {},
   "source": [
    "# Loading Libraries"
   ]
  },
  {
   "cell_type": "markdown",
   "metadata": {},
   "source": [
    "This section is importing necessary libraries, including pandas for data manipulation, matplotlib and seaborn for data visualization, sklearn for machine learning tasks, and numpy for numerical operations."
   ]
  },
  {
   "cell_type": "code",
   "execution_count": null,
   "metadata": {},
   "outputs": [],
   "source": [
    "import os\n",
    "import pandas as pd\n",
    "import matplotlib.pyplot as plt\n",
    "import seaborn as sns\n",
    "from sklearn.model_selection import train_test_split\n",
    "from sklearn.linear_model import LinearRegression\n",
    "from sklearn.ensemble import RandomForestRegressor\n",
    "from sklearn.ensemble import GradientBoostingRegressor\n",
    "from sklearn.svm import SVR\n",
    "from sklearn.metrics import mean_squared_error, r2_score\n",
    "import numpy as np"
   ]
  },
  {
   "cell_type": "markdown",
   "metadata": {},
   "source": [
    "# Loading First Dataset"
   ]
  },
  {
   "cell_type": "code",
   "execution_count": null,
   "metadata": {},
   "outputs": [],
   "source": [
    "os.chdir(r'C:\\Users\\guilh\\OneDrive\\Área de Trabalho\\FinalProject\\FinalProject') \n",
    "#Loading the dataset from a CSV file named 'calories.csv' into a pandas DataFrame\n",
    "data = pd.read_csv('calories.csv')\n",
    "data.head() # Display the first few rows of the loaded dataset"
   ]
  },
  {
   "cell_type": "markdown",
   "metadata": {},
   "source": [
    "# Loading Second Dataset"
   ]
  },
  {
   "cell_type": "code",
   "execution_count": null,
   "metadata": {},
   "outputs": [],
   "source": [
    "#Loading the second dataset from a CSV file named 'exercise.csv' into a pandas DataFrame\n",
    "exercise_data = pd.read_csv('exercise.csv')\n",
    "exercise_data.head()"
   ]
  },
  {
   "cell_type": "markdown",
   "metadata": {},
   "source": [
    "# Merging the Datasets"
   ]
  },
  {
   "cell_type": "code",
   "execution_count": null,
   "metadata": {},
   "outputs": [],
   "source": [
    "#Merging the two datasets ('data' and 'exercise_data') on the 'User_ID' column\n",
    "merged_data = pd.merge(data, exercise_data, on='User_ID')\n",
    "merged_data.head()"
   ]
  },
  {
   "cell_type": "markdown",
   "metadata": {},
   "source": [
    "***"
   ]
  },
  {
   "cell_type": "markdown",
   "metadata": {},
   "source": [
    "# Checking Missing Values"
   ]
  },
  {
   "cell_type": "markdown",
   "metadata": {},
   "source": [
    "Check for missing values in the merged dataset. The isnull() function returns a boolean mask of the same shape as the original DataFrame, where True indicates a missing value and False indicates a present value.   \n",
    "The sum() function then counts the number of True values in each column, effectively counting the number of missing values.\n",
    "missing_values = merged_data.isnull().sum()   "
   ]
  },
  {
   "cell_type": "code",
   "execution_count": null,
   "metadata": {},
   "outputs": [],
   "source": [
    "# Check for missing values in the merged dataset\n",
    "missing_values = merged_data.isnull().sum()\n",
    "missing_values"
   ]
  },
  {
   "cell_type": "markdown",
   "metadata": {},
   "source": [
    "***"
   ]
  },
  {
   "cell_type": "markdown",
   "metadata": {},
   "source": [
    "# Histogram of the Calories Column"
   ]
  },
  {
   "cell_type": "markdown",
   "metadata": {},
   "source": [
    "The histogram will display the distribution of calories burned   \n",
    "plt.figure(figsize=(10, 6)) # Set the figure size to 10 inches wide and 6 inches tall   \n",
    "   \n",
    "bins=30 specifies that the histogram should be divided into 30 bins\n",
    "kde=True adds a kernel density estimate (KDE) to the histogram, which is a smoothed curve that estimates the underlying distribution of the data\n",
    "sns.histplot(merged_data['Calories'], bins=30, kde=True)"
   ]
  },
  {
   "cell_type": "code",
   "execution_count": null,
   "metadata": {},
   "outputs": [],
   "source": [
    "#Creating a histogram of the 'Calories' column\n",
    "plt.figure(figsize=(10, 6)) # Set the figure size to 10 inches wide and 6 inches tall\n",
    "sns.histplot(merged_data['Calories'], bins=30, kde=True)# bins=30 specifies that the histogram should be divided into 30 bins\n",
    "plt.title('Distribution of Calories Burned')\n",
    "plt.xlabel('Calories')\n",
    "plt.ylabel('Frequency')\n",
    "plt.show()"
   ]
  },
  {
   "cell_type": "markdown",
   "metadata": {},
   "source": [
    "***"
   ]
  }
 ],
 "metadata": {
  "kernelspec": {
   "display_name": "Python 3",
   "language": "python",
   "name": "python3"
  },
  "language_info": {
   "name": "python",
   "version": "3.10.11"
  }
 },
 "nbformat": 4,
 "nbformat_minor": 2
}
