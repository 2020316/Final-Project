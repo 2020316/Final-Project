{
 "cells": [
  {
   "cell_type": "markdown",
   "id": "c7b98080",
   "metadata": {},
   "source": [
    "# Loading Libraries"
   ]
  },
  {
   "cell_type": "markdown",
   "id": "fd05762b",
   "metadata": {},
   "source": [
    "This section of the code is importing necessary libraries and modules that will be used throughout the script. This includes libraries for data manipulation (pandas, numpy), data visualization (matplotlib, seaborn), and machine learning (sklearn)."
   ]
  },
  {
   "cell_type": "code",
   "execution_count": 4,
   "id": "250d5c04",
   "metadata": {},
   "outputs": [],
   "source": [
    "import os\n",
    "import numpy as np\n",
    "import pandas as pd\n",
    "import matplotlib.pyplot as plt\n",
    "import seaborn as sns\n",
    "from sklearn.ensemble import RandomForestClassifier\n",
    "from sklearn.svm import SVC\n",
    "from sklearn.neighbors import KNeighborsClassifier\n",
    "from sklearn.naive_bayes import GaussianNB\n",
    "from sklearn.model_selection import train_test_split\n",
    "from sklearn.preprocessing import LabelEncoder\n",
    "from sklearn.metrics import accuracy_score\n",
    "import matplotlib.pyplot as plt\n",
    "from joblib import dump\n",
    "from joblib import load"
   ]
  },
  {
   "cell_type": "markdown",
   "id": "0d89aeff",
   "metadata": {},
   "source": [
    "# Loading the Data"
   ]
  },
  {
   "cell_type": "markdown",
   "id": "a25203b0",
   "metadata": {},
   "source": [
    "Here, the code is loading a dataset from a CSV file and displaying the first 5 rows to get a sense of the data."
   ]
  },
  {
   "cell_type": "code",
   "execution_count": null,
   "id": "c08b76ad",
   "metadata": {},
   "outputs": [],
   "source": [
    "os.chdir(r'C:\\Users\\guilh\\OneDrive\\Área de Trabalho\\FinalProject\\FinalProject')\n",
    "#Loading the dataset\n",
    "file_path = 'done_food_data.csv'\n",
    "food_data = pd.read_csv(file_path)\n",
    "#Top 5 rows\n",
    "food_data.head()"
   ]
  },
  {
   "cell_type": "markdown",
   "id": "90ed9cc9",
   "metadata": {},
   "source": [
    "***"
   ]
  },
  {
   "cell_type": "markdown",
   "id": "8829de4d",
   "metadata": {},
   "source": [
    "# Missing Values\n"
   ]
  },
  {
   "cell_type": "markdown",
   "id": "53a287a3",
   "metadata": {},
   "source": [
    "This code checks for missing values in the food_data dataset. It uses the isnull() function from pandas to identify missing values in each column of the dataset, and then sums up the number of missing values in each column using the sum() function. The resulting series missing_values contains the number of missing values in each column.\n",
    "\n",
    "The last line of the code missing_values[missing_values > 0] filters the missing_values series to only show columns that have missing values (i.e., columns where the number of missing values is greater than 0). This is useful for identifying which columns in the dataset have missing values that need to be handled.\n",
    "\n",
    "If there are no missing values in the dataset, the output of the last line of the code will be an empty series. If there are missing values, the output will be a series showing the number of missing values in each column with missing values."
   ]
  },
  {
   "cell_type": "code",
   "execution_count": null,
   "id": "0fab6c35",
   "metadata": {},
   "outputs": [],
   "source": [
    "#Checking for missing values in the dataset\n",
    "missing_values = food_data.isnull().sum()\n",
    "missing_values[missing_values > 0]"
   ]
  },
  {
   "cell_type": "markdown",
   "id": "5725a935",
   "metadata": {},
   "source": [
    "***"
   ]
  },
  {
   "cell_type": "markdown",
   "id": "95f1a7a4",
   "metadata": {},
   "source": [
    "# Visualization-1"
   ]
  },
  {
   "cell_type": "markdown",
   "id": "1c231a4d",
   "metadata": {},
   "source": [
    "This code creates a box plot to visualize the distribution of energy content (in kcal) across different food groups in the food_data dataset. The boxplot() function from seaborn is used to create the box plot, with Energy_kcal as the x-axis variable and FoodGroup as the y-axis variable.\n",
    "\n",
    "The figsize() function from matplotlib is used to set the size of the plot to 14 inches wide and 8 inches tall. The title(), xlabel(), and ylabel() functions are used to set the title and labels of the plot.\n",
    "\n",
    "The resulting plot shows the distribution of energy content (in kcal) across different food groups, with the median value represented by the line in the middle of each box, the box representing the interquartile range (IQR), and the whiskers representing the range of the data excluding outliers. Outliers are represented by individual points beyond the whiskers.\n",
    "\n",
    "This visualization can help identify which food groups have higher or lower energy content on average, as well as the range and distribution of energy content within each food group."
   ]
  },
  {
   "cell_type": "code",
   "execution_count": null,
   "id": "5c518f95",
   "metadata": {},
   "outputs": [],
   "source": [
    "#Visualization of the distribution of energy content in kcal across different food groups\n",
    "plt.figure(figsize=(14, 8))\n",
    "sns.boxplot(x='Energy_kcal', y='FoodGroup', data=food_data)\n",
    "plt.title('Distribution of Energy Content (kcal) Across Food Groups')\n",
    "plt.xlabel('Energy (kcal)')\n",
    "plt.ylabel('Food Group')\n",
    "plt.show()"
   ]
  },
  {
   "cell_type": "markdown",
   "id": "3f67b301",
   "metadata": {},
   "source": [
    "***"
   ]
  },
  {
   "cell_type": "markdown",
   "id": "a919a3d0",
   "metadata": {},
   "source": [
    "# Visualization-2"
   ]
  },
  {
   "cell_type": "markdown",
   "id": "4e7ad1c9",
   "metadata": {},
   "source": [
    "The comment describes how a stacked bar plot is created to show the average macronutrient composition (protein, fat, carbohydrates) of different food groups using the food_data dataset.   \n",
    "It explains the use of groupby() in pandas to calculate mean values of macronutrients by food group, and how the plot() function, along with parameters like kind='bar' and stacked=True, is used to generate the plot.   \n",
    "Additional details include plot customization like size, color, and label adjustments to enhance readability and aesthetics. The result is a visual representation that allows easy comparison of macronutrient distribution across food groups."
   ]
  },
  {
   "cell_type": "code",
   "execution_count": null,
   "id": "9814d3ed",
   "metadata": {},
   "outputs": [],
   "source": [
    "#Visualization of the average macronutrient composition (protein, fat, carbohydrates) for each food group\n",
    "food_groups_macronutrients = food_data.groupby('FoodGroup')[['Protein_g', 'Fat_g', 'Carb_g']].mean()\n",
    "#Creating a stacked bar plot to display the macronutrient composition\n",
    "food_groups_macronutrients.plot(kind='bar', stacked=True, figsize=(14, 8), color=['#1f77b4', '#ff7f0e', '#2ca02c'])\n",
    "plt.title('Average Macronutrient Composition in Different Food Groups')\n",
    "plt.xlabel('Food Group')\n",
    "plt.ylabel('Average Macronutrient Content (g)')\n",
    "plt.xticks(rotation=45, ha='right')\n",
    "plt.legend(title='Macronutrients')\n",
    "plt.tight_layout()\n",
    "plt.show()"
   ]
  },
  {
   "cell_type": "markdown",
   "id": "1cd0414b",
   "metadata": {},
   "source": [
    "***"
   ]
  },
  {
   "cell_type": "markdown",
   "id": "a1be3838",
   "metadata": {},
   "source": [
    "# Visualization-3"
   ]
  },
  {
   "cell_type": "markdown",
   "id": "10b28a85",
   "metadata": {},
   "source": [
    "Bar plot that visualizes the average micronutrient content (VitA, VitC, Calcium, Iron) for each food group using the food_data dataset.   \n",
    "It details the use of groupby() in pandas to compute mean values of VitA_mcg, VitC_mg, Calcium_mg, and Iron_mg for each food group.   \n",
    "The plot() function is then utilized to generate the bar plot with these nutrients as the y-axis variables and FoodGroup as the x-axis variable.   \n",
    "It mentions setting the plot size with figsize(), using a 'viridis' color map with the colormap parameter, and enhancing readability through customized labels, title, legend, and x-axis label rotation.   \n",
    "Tight_layout() is used for optimal plot spacing.   \n",
    "The resulting visualization displays the average micronutrient content per food group, which helps in comparing and understanding the distribution of these micronutrients across different food groups."
   ]
  },
  {
   "cell_type": "code",
   "execution_count": null,
   "id": "8eb639c8",
   "metadata": {},
   "outputs": [],
   "source": [
    "#Visualization of the average micronutrient content (VitA, VitC, Calcium, Iron) for each food group\n",
    "micronutrients_columns = ['VitA_mcg', 'VitC_mg', 'Calcium_mg', 'Iron_mg']\n",
    "food_groups_micronutrients = food_data.groupby('FoodGroup')[micronutrients_columns].mean()\n",
    "#Creating a bar plot for the average micronutrient content\n",
    "food_groups_micronutrients.plot(kind='bar', figsize=(14, 8), colormap='viridis')\n",
    "plt.title('Average Micronutrient Content in Different Food Groups')\n",
    "plt.xlabel('Food Group')\n",
    "plt.ylabel('Average Micronutrient Content')\n",
    "plt.xticks(rotation=45, ha='right')\n",
    "plt.legend(title='Micronutrients')\n",
    "plt.tight_layout()\n",
    "plt.show()"
   ]
  },
  {
   "cell_type": "markdown",
   "id": "5161567f",
   "metadata": {},
   "source": [
    "***"
   ]
  },
  {
   "cell_type": "markdown",
   "id": "b8c34a3f",
   "metadata": {},
   "source": [
    "# Visualization-4"
   ]
  },
  {
   "cell_type": "markdown",
   "id": "dc724518",
   "metadata": {},
   "source": [
    "The following summarizes how a box plot is created to visualize the distribution of sugar content across various food categories using the food_data dataset. The boxplot() function from seaborn is employed to create the plot, with \"Sugar_g\" as the x-axis variable and \"category\" as the y-axis variable.   \n",
    "The plot's size is set using matplotlib's figure() function, and plot labels and title are configured with the title(), xlabel(), and ylabel() functions. The box plot visually represents the interquartile range (IQR), median, data range excluding outliers (via whiskers), and outliers themselves as individual points beyond the whiskers.   \n",
    "This visualization is useful for assessing the average sugar content, its range, and distribution within each food category, helping to identify categories with higher or lower sugar levels."
   ]
  },
  {
   "cell_type": "code",
   "execution_count": null,
   "id": "d131f1ef",
   "metadata": {},
   "outputs": [],
   "source": [
    "#Visualization of the distribution of sugar content across different food categories\n",
    "plt.figure(figsize=(14, 8))\n",
    "sns.boxplot(x='Sugar_g', y='category', data=food_data)\n",
    "plt.title('Distribution of Sugar Content Across Food Categories')\n",
    "plt.xlabel('Sugar Content (g)')\n",
    "plt.ylabel('Category')\n",
    "plt.show()"
   ]
  },
  {
   "cell_type": "markdown",
   "id": "e3a2569a",
   "metadata": {},
   "source": [
    "***"
   ]
  },
  {
   "cell_type": "markdown",
   "id": "af09898b",
   "metadata": {},
   "source": []
  },
  {
   "cell_type": "markdown",
   "id": "658b84c2",
   "metadata": {},
   "source": []
  },
  {
   "cell_type": "code",
   "execution_count": null,
   "id": "1a2030ae",
   "metadata": {},
   "outputs": [],
   "source": []
  },
  {
   "cell_type": "markdown",
   "id": "a128b549",
   "metadata": {},
   "source": [
    "***"
   ]
  },
  {
   "cell_type": "markdown",
   "id": "48c8678b",
   "metadata": {},
   "source": []
  },
  {
   "cell_type": "markdown",
   "id": "fd12600a",
   "metadata": {},
   "source": []
  },
  {
   "cell_type": "code",
   "execution_count": null,
   "id": "8b5ee93a",
   "metadata": {},
   "outputs": [],
   "source": []
  },
  {
   "cell_type": "markdown",
   "id": "f1235463",
   "metadata": {},
   "source": [
    "***"
   ]
  },
  {
   "cell_type": "markdown",
   "id": "73654563",
   "metadata": {},
   "source": []
  },
  {
   "cell_type": "code",
   "execution_count": null,
   "id": "068fc63b",
   "metadata": {},
   "outputs": [],
   "source": []
  },
  {
   "cell_type": "markdown",
   "id": "025eaa88",
   "metadata": {},
   "source": []
  },
  {
   "cell_type": "markdown",
   "id": "1a25a06b",
   "metadata": {},
   "source": []
  },
  {
   "cell_type": "code",
   "execution_count": null,
   "id": "3ef06c02",
   "metadata": {},
   "outputs": [],
   "source": []
  },
  {
   "cell_type": "markdown",
   "id": "8705092c",
   "metadata": {},
   "source": []
  },
  {
   "cell_type": "markdown",
   "id": "3bae372d",
   "metadata": {},
   "source": []
  },
  {
   "cell_type": "code",
   "execution_count": null,
   "id": "32b4926a",
   "metadata": {},
   "outputs": [],
   "source": []
  },
  {
   "cell_type": "markdown",
   "id": "f3e5bc2a",
   "metadata": {},
   "source": []
  },
  {
   "cell_type": "markdown",
   "id": "afc44594",
   "metadata": {},
   "source": []
  },
  {
   "cell_type": "code",
   "execution_count": null,
   "id": "6af61ab2",
   "metadata": {},
   "outputs": [],
   "source": []
  },
  {
   "cell_type": "markdown",
   "id": "fcc7234a",
   "metadata": {},
   "source": []
  },
  {
   "cell_type": "markdown",
   "id": "393f7df1",
   "metadata": {},
   "source": []
  },
  {
   "cell_type": "code",
   "execution_count": null,
   "id": "a3c31f48",
   "metadata": {},
   "outputs": [],
   "source": []
  },
  {
   "cell_type": "markdown",
   "id": "f4fc0b50",
   "metadata": {},
   "source": []
  },
  {
   "cell_type": "markdown",
   "id": "8f4b2309",
   "metadata": {},
   "source": [
    "\n"
   ]
  },
  {
   "cell_type": "code",
   "execution_count": null,
   "id": "36bbff3e",
   "metadata": {},
   "outputs": [],
   "source": []
  },
  {
   "cell_type": "markdown",
   "id": "a0d7af8a",
   "metadata": {},
   "source": []
  },
  {
   "cell_type": "markdown",
   "id": "ea28d729",
   "metadata": {},
   "source": []
  },
  {
   "cell_type": "code",
   "execution_count": null,
   "id": "a75538df",
   "metadata": {},
   "outputs": [],
   "source": []
  },
  {
   "cell_type": "markdown",
   "id": "4f2e3002",
   "metadata": {},
   "source": []
  },
  {
   "cell_type": "markdown",
   "id": "4a2cff1f",
   "metadata": {},
   "source": []
  },
  {
   "cell_type": "code",
   "execution_count": null,
   "id": "3e49f0ab",
   "metadata": {},
   "outputs": [],
   "source": []
  },
  {
   "cell_type": "markdown",
   "id": "82050e86",
   "metadata": {},
   "source": [
    "***"
   ]
  },
  {
   "cell_type": "code",
   "execution_count": null,
   "id": "eeaa8bb0",
   "metadata": {},
   "outputs": [],
   "source": [
    "\n"
   ]
  }
 ],
 "metadata": {
  "kernelspec": {
   "display_name": "Python 3 (ipykernel)",
   "language": "python",
   "name": "python3"
  },
  "language_info": {
   "codemirror_mode": {
    "name": "ipython",
    "version": 3
   },
   "file_extension": ".py",
   "mimetype": "text/x-python",
   "name": "python",
   "nbconvert_exporter": "python",
   "pygments_lexer": "ipython3",
   "version": "3.11.5"
  }
 },
 "nbformat": 4,
 "nbformat_minor": 5
}
