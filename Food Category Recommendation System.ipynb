{
 "cells": [
  {
   "cell_type": "markdown",
   "id": "c7b98080",
   "metadata": {},
   "source": [
    "# Loading Libraries"
   ]
  },
  {
   "cell_type": "markdown",
   "id": "fd05762b",
   "metadata": {},
   "source": [
    "This section of the code is importing necessary libraries and modules that will be used throughout the script. This includes libraries for data manipulation (pandas, numpy), data visualization (matplotlib, seaborn), and machine learning (sklearn)."
   ]
  },
  {
   "cell_type": "code",
   "execution_count": 4,
   "id": "250d5c04",
   "metadata": {},
   "outputs": [],
   "source": [
    "import os\n",
    "import numpy as np\n",
    "import pandas as pd\n",
    "import matplotlib.pyplot as plt\n",
    "import seaborn as sns\n",
    "from sklearn.ensemble import RandomForestClassifier\n",
    "from sklearn.svm import SVC\n",
    "from sklearn.neighbors import KNeighborsClassifier\n",
    "from sklearn.naive_bayes import GaussianNB\n",
    "from sklearn.model_selection import train_test_split\n",
    "from sklearn.preprocessing import LabelEncoder\n",
    "from sklearn.metrics import accuracy_score\n",
    "import matplotlib.pyplot as plt\n",
    "from joblib import dump\n",
    "from joblib import load"
   ]
  },
  {
   "cell_type": "markdown",
   "id": "0d89aeff",
   "metadata": {},
   "source": [
    "# Loading the Data"
   ]
  },
  {
   "cell_type": "markdown",
   "id": "a25203b0",
   "metadata": {},
   "source": [
    "Here, the code is loading a dataset from a CSV file and displaying the first 5 rows to get a sense of the data."
   ]
  },
  {
   "cell_type": "code",
   "execution_count": null,
   "id": "c08b76ad",
   "metadata": {},
   "outputs": [],
   "source": [
    "os.chdir(r'C:\\Users\\guilh\\OneDrive\\Área de Trabalho\\FinalProject\\FinalProject')\n",
    "#Loading the dataset\n",
    "file_path = 'done_food_data.csv'\n",
    "food_data = pd.read_csv(file_path)\n",
    "#Top 5 rows\n",
    "food_data.head()"
   ]
  },
  {
   "cell_type": "markdown",
   "id": "90ed9cc9",
   "metadata": {},
   "source": [
    "***"
   ]
  },
  {
   "cell_type": "markdown",
   "id": "8829de4d",
   "metadata": {},
   "source": [
    "# Missing Values\n"
   ]
  },
  {
   "cell_type": "markdown",
   "id": "53a287a3",
   "metadata": {},
   "source": [
    "This code checks for missing values in the food_data dataset. It uses the isnull() function from pandas to identify missing values in each column of the dataset, and then sums up the number of missing values in each column using the sum() function. The resulting series missing_values contains the number of missing values in each column.\n",
    "\n",
    "The last line of the code missing_values[missing_values > 0] filters the missing_values series to only show columns that have missing values (i.e., columns where the number of missing values is greater than 0). This is useful for identifying which columns in the dataset have missing values that need to be handled.\n",
    "\n",
    "If there are no missing values in the dataset, the output of the last line of the code will be an empty series. If there are missing values, the output will be a series showing the number of missing values in each column with missing values."
   ]
  },
  {
   "cell_type": "code",
   "execution_count": null,
   "id": "0fab6c35",
   "metadata": {},
   "outputs": [],
   "source": [
    "#Checking for missing values in the dataset\n",
    "missing_values = food_data.isnull().sum()\n",
    "missing_values[missing_values > 0]"
   ]
  },
  {
   "cell_type": "markdown",
   "id": "5725a935",
   "metadata": {},
   "source": [
    "***"
   ]
  },
  {
   "cell_type": "markdown",
   "id": "1c231a4d",
   "metadata": {},
   "source": []
  },
  {
   "cell_type": "code",
   "execution_count": null,
   "id": "5c518f95",
   "metadata": {},
   "outputs": [],
   "source": []
  },
  {
   "cell_type": "markdown",
   "id": "3f67b301",
   "metadata": {},
   "source": []
  },
  {
   "cell_type": "markdown",
   "id": "a919a3d0",
   "metadata": {},
   "source": []
  },
  {
   "cell_type": "code",
   "execution_count": null,
   "id": "9814d3ed",
   "metadata": {},
   "outputs": [],
   "source": []
  },
  {
   "cell_type": "markdown",
   "id": "1cd0414b",
   "metadata": {},
   "source": []
  },
  {
   "cell_type": "markdown",
   "id": "a1be3838",
   "metadata": {},
   "source": []
  },
  {
   "cell_type": "code",
   "execution_count": null,
   "id": "8eb639c8",
   "metadata": {},
   "outputs": [],
   "source": []
  },
  {
   "cell_type": "markdown",
   "id": "5161567f",
   "metadata": {},
   "source": []
  },
  {
   "cell_type": "markdown",
   "id": "b8c34a3f",
   "metadata": {},
   "source": []
  },
  {
   "cell_type": "code",
   "execution_count": null,
   "id": "d131f1ef",
   "metadata": {},
   "outputs": [],
   "source": []
  },
  {
   "cell_type": "markdown",
   "id": "e3a2569a",
   "metadata": {},
   "source": []
  },
  {
   "cell_type": "markdown",
   "id": "af09898b",
   "metadata": {},
   "source": []
  },
  {
   "cell_type": "code",
   "execution_count": null,
   "id": "1a2030ae",
   "metadata": {},
   "outputs": [],
   "source": []
  },
  {
   "cell_type": "markdown",
   "id": "a128b549",
   "metadata": {},
   "source": []
  },
  {
   "cell_type": "markdown",
   "id": "48c8678b",
   "metadata": {},
   "source": []
  },
  {
   "cell_type": "code",
   "execution_count": null,
   "id": "8b5ee93a",
   "metadata": {},
   "outputs": [],
   "source": []
  },
  {
   "cell_type": "markdown",
   "id": "f1235463",
   "metadata": {},
   "source": []
  },
  {
   "cell_type": "markdown",
   "id": "73654563",
   "metadata": {},
   "source": []
  },
  {
   "cell_type": "code",
   "execution_count": null,
   "id": "068fc63b",
   "metadata": {},
   "outputs": [],
   "source": []
  },
  {
   "cell_type": "markdown",
   "id": "025eaa88",
   "metadata": {},
   "source": []
  },
  {
   "cell_type": "markdown",
   "id": "1a25a06b",
   "metadata": {},
   "source": []
  },
  {
   "cell_type": "code",
   "execution_count": null,
   "id": "3ef06c02",
   "metadata": {},
   "outputs": [],
   "source": []
  },
  {
   "cell_type": "markdown",
   "id": "8705092c",
   "metadata": {},
   "source": []
  },
  {
   "cell_type": "markdown",
   "id": "3bae372d",
   "metadata": {},
   "source": []
  },
  {
   "cell_type": "code",
   "execution_count": null,
   "id": "32b4926a",
   "metadata": {},
   "outputs": [],
   "source": []
  },
  {
   "cell_type": "markdown",
   "id": "f3e5bc2a",
   "metadata": {},
   "source": []
  },
  {
   "cell_type": "markdown",
   "id": "afc44594",
   "metadata": {},
   "source": []
  },
  {
   "cell_type": "code",
   "execution_count": null,
   "id": "6af61ab2",
   "metadata": {},
   "outputs": [],
   "source": []
  },
  {
   "cell_type": "markdown",
   "id": "fcc7234a",
   "metadata": {},
   "source": []
  },
  {
   "cell_type": "markdown",
   "id": "393f7df1",
   "metadata": {},
   "source": []
  },
  {
   "cell_type": "code",
   "execution_count": null,
   "id": "a3c31f48",
   "metadata": {},
   "outputs": [],
   "source": []
  },
  {
   "cell_type": "markdown",
   "id": "f4fc0b50",
   "metadata": {},
   "source": []
  },
  {
   "cell_type": "markdown",
   "id": "8f4b2309",
   "metadata": {},
   "source": [
    "\n"
   ]
  },
  {
   "cell_type": "code",
   "execution_count": null,
   "id": "36bbff3e",
   "metadata": {},
   "outputs": [],
   "source": []
  },
  {
   "cell_type": "markdown",
   "id": "a0d7af8a",
   "metadata": {},
   "source": []
  },
  {
   "cell_type": "markdown",
   "id": "ea28d729",
   "metadata": {},
   "source": []
  },
  {
   "cell_type": "code",
   "execution_count": null,
   "id": "a75538df",
   "metadata": {},
   "outputs": [],
   "source": []
  },
  {
   "cell_type": "markdown",
   "id": "4f2e3002",
   "metadata": {},
   "source": []
  },
  {
   "cell_type": "markdown",
   "id": "4a2cff1f",
   "metadata": {},
   "source": []
  },
  {
   "cell_type": "code",
   "execution_count": null,
   "id": "3e49f0ab",
   "metadata": {},
   "outputs": [],
   "source": []
  },
  {
   "cell_type": "markdown",
   "id": "82050e86",
   "metadata": {},
   "source": [
    "***"
   ]
  },
  {
   "cell_type": "code",
   "execution_count": null,
   "id": "eeaa8bb0",
   "metadata": {},
   "outputs": [],
   "source": [
    "\n"
   ]
  }
 ],
 "metadata": {
  "kernelspec": {
   "display_name": "Python 3 (ipykernel)",
   "language": "python",
   "name": "python3"
  },
  "language_info": {
   "codemirror_mode": {
    "name": "ipython",
    "version": 3
   },
   "file_extension": ".py",
   "mimetype": "text/x-python",
   "name": "python",
   "nbconvert_exporter": "python",
   "pygments_lexer": "ipython3",
   "version": "3.11.5"
  }
 },
 "nbformat": 4,
 "nbformat_minor": 5
}
